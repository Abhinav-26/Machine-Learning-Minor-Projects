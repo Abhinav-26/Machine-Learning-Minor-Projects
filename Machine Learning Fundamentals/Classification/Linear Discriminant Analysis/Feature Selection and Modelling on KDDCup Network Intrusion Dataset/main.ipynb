{
  "nbformat": 4,
  "nbformat_minor": 0,
  "metadata": {
    "colab": {
      "name": "Untitled32.ipynb",
      "provenance": [],
      "collapsed_sections": []
    },
    "kernelspec": {
      "name": "python3",
      "display_name": "Python 3"
    }
  },
  "cells": [
    {
      "cell_type": "markdown",
      "metadata": {
        "id": "RiUWKPEA_Sir",
        "colab_type": "text"
      },
      "source": [
        "WARNING: This notebook may take a while to run all the cells."
      ]
    },
    {
      "cell_type": "code",
      "metadata": {
        "id": "TcPm4W3j1mBo",
        "colab_type": "code",
        "colab": {
          "base_uri": "https://localhost:8080/",
          "height": 36
        },
        "outputId": "26a58187-0da8-42a9-9e15-4ae0121b324e"
      },
      "source": [
        "import requests\n",
        "url = 'http://kdd.ics.uci.edu/databases/kddcup99/kddcup.data_10_percent.gz'\n",
        "r = requests.get(url, allow_redirects=True)\n",
        "open('kddcup.data_10_percent.gz', 'wb').write(r.content)"
      ],
      "execution_count": 1,
      "outputs": [
        {
          "output_type": "execute_result",
          "data": {
            "text/plain": [
              "2144903"
            ]
          },
          "metadata": {
            "tags": []
          },
          "execution_count": 1
        }
      ]
    },
    {
      "cell_type": "markdown",
      "metadata": {
        "id": "FWD6qctO2HMb",
        "colab_type": "text"
      },
      "source": [
        "Downloading the dataset. It will download the dataset in .gz format."
      ]
    },
    {
      "cell_type": "code",
      "metadata": {
        "id": "oPt3eVMy12c8",
        "colab_type": "code",
        "colab": {}
      },
      "source": [
        "!gunzip /content/kddcup.data_10_percent.gz"
      ],
      "execution_count": 2,
      "outputs": []
    },
    {
      "cell_type": "markdown",
      "metadata": {
        "id": "QWWoTmby2QuV",
        "colab_type": "text"
      },
      "source": [
        "Extracting the dataset."
      ]
    },
    {
      "cell_type": "code",
      "metadata": {
        "id": "teIaqPv72jdW",
        "colab_type": "code",
        "colab": {}
      },
      "source": [
        "!mv /content/kddcup.data_10_percent /content/kddcup.data_10_percent.csv"
      ],
      "execution_count": 3,
      "outputs": []
    },
    {
      "cell_type": "markdown",
      "metadata": {
        "id": "B6rzkFAR2xRx",
        "colab_type": "text"
      },
      "source": [
        "Changing the extension of the file to .csv"
      ]
    },
    {
      "cell_type": "code",
      "metadata": {
        "id": "vMtru1Tz0o9b",
        "colab_type": "code",
        "colab": {
          "base_uri": "https://localhost:8080/",
          "height": 74
        },
        "outputId": "1efa049e-ff3a-4a31-eeb0-e9092db17a80"
      },
      "source": [
        "import pandas as pd\n",
        "from sklearn.preprocessing import LabelEncoder\n",
        "import matplotlib.pyplot as plt\n",
        "from sklearn.preprocessing import Normalizer\n",
        "import warnings\n",
        "import seaborn as sns\n",
        "warnings.filterwarnings(\"ignore\")"
      ],
      "execution_count": 4,
      "outputs": [
        {
          "output_type": "stream",
          "text": [
            "/usr/local/lib/python3.6/dist-packages/statsmodels/tools/_testing.py:19: FutureWarning: pandas.util.testing is deprecated. Use the functions in the public API at pandas.testing instead.\n",
            "  import pandas.util.testing as tm\n"
          ],
          "name": "stderr"
        }
      ]
    },
    {
      "cell_type": "markdown",
      "metadata": {
        "id": "03ak7HdN0wsC",
        "colab_type": "text"
      },
      "source": [
        "Importing necessary libraries\n"
      ]
    },
    {
      "cell_type": "code",
      "metadata": {
        "id": "3R46vwfY00j5",
        "colab_type": "code",
        "colab": {}
      },
      "source": [
        "names = [\"duration\", \"protocol_type\", \"service\", \"flag\", \"src_bytes\",\n",
        "         \"dst_bytes\", \"land\", \"wrong_fragment\", \"urgent\", \"hot\", \"num_failed_logins\",\n",
        "         \"logged_in\", \"num_compromised\", \"root_shell\", \"su_attempted\", \"num_root\",\n",
        "         \"num_file_creations\", \"num_shells\", \"num_access_files\", \"num_outbound_cmds\",\n",
        "         \"is_host_login\", \"is_guest_login\", \"count\", \"srv_count\", \"serror_rate\",\n",
        "         \"srv_serror_rate\", \"rerror_rate\", \"srv_rerror_rate\", \"same_srv_rate\",\n",
        "         \"diff_srv_rate\", \"srv_diff_host_rate\", \"dst_host_count\", \"dst_host_srv_count\",\n",
        "         \"dst_host_same_srv_rate\", \"dst_host_diff_srv_rate\", \"dst_host_same_src_port_rate\",\n",
        "         \"dst_host_srv_diff_host_rate\", \"dst_host_serror_rate\", \"dst_host_srv_serror_rate\",\n",
        "         \"dst_host_rerror_rate\", \"dst_host_srv_rerror_rate\", \"label\"]\n",
        "data = pd.read_csv(\"kddcup.data_10_percent.csv\", names=names)"
      ],
      "execution_count": 5,
      "outputs": []
    },
    {
      "cell_type": "markdown",
      "metadata": {
        "id": "TAYJTBXy03sr",
        "colab_type": "text"
      },
      "source": [
        "Loading the dataset"
      ]
    },
    {
      "cell_type": "code",
      "metadata": {
        "id": "uUgFVdxZ2s-1",
        "colab_type": "code",
        "colab": {
          "base_uri": "https://localhost:8080/",
          "height": 226
        },
        "outputId": "6b02f152-83e2-40d0-de38-6aec080bf26c"
      },
      "source": [
        "data.head()"
      ],
      "execution_count": 6,
      "outputs": [
        {
          "output_type": "execute_result",
          "data": {
            "text/html": [
              "<div>\n",
              "<style scoped>\n",
              "    .dataframe tbody tr th:only-of-type {\n",
              "        vertical-align: middle;\n",
              "    }\n",
              "\n",
              "    .dataframe tbody tr th {\n",
              "        vertical-align: top;\n",
              "    }\n",
              "\n",
              "    .dataframe thead th {\n",
              "        text-align: right;\n",
              "    }\n",
              "</style>\n",
              "<table border=\"1\" class=\"dataframe\">\n",
              "  <thead>\n",
              "    <tr style=\"text-align: right;\">\n",
              "      <th></th>\n",
              "      <th>duration</th>\n",
              "      <th>protocol_type</th>\n",
              "      <th>service</th>\n",
              "      <th>flag</th>\n",
              "      <th>src_bytes</th>\n",
              "      <th>dst_bytes</th>\n",
              "      <th>land</th>\n",
              "      <th>wrong_fragment</th>\n",
              "      <th>urgent</th>\n",
              "      <th>hot</th>\n",
              "      <th>num_failed_logins</th>\n",
              "      <th>logged_in</th>\n",
              "      <th>num_compromised</th>\n",
              "      <th>root_shell</th>\n",
              "      <th>su_attempted</th>\n",
              "      <th>num_root</th>\n",
              "      <th>num_file_creations</th>\n",
              "      <th>num_shells</th>\n",
              "      <th>num_access_files</th>\n",
              "      <th>num_outbound_cmds</th>\n",
              "      <th>is_host_login</th>\n",
              "      <th>is_guest_login</th>\n",
              "      <th>count</th>\n",
              "      <th>srv_count</th>\n",
              "      <th>serror_rate</th>\n",
              "      <th>srv_serror_rate</th>\n",
              "      <th>rerror_rate</th>\n",
              "      <th>srv_rerror_rate</th>\n",
              "      <th>same_srv_rate</th>\n",
              "      <th>diff_srv_rate</th>\n",
              "      <th>srv_diff_host_rate</th>\n",
              "      <th>dst_host_count</th>\n",
              "      <th>dst_host_srv_count</th>\n",
              "      <th>dst_host_same_srv_rate</th>\n",
              "      <th>dst_host_diff_srv_rate</th>\n",
              "      <th>dst_host_same_src_port_rate</th>\n",
              "      <th>dst_host_srv_diff_host_rate</th>\n",
              "      <th>dst_host_serror_rate</th>\n",
              "      <th>dst_host_srv_serror_rate</th>\n",
              "      <th>dst_host_rerror_rate</th>\n",
              "      <th>dst_host_srv_rerror_rate</th>\n",
              "      <th>label</th>\n",
              "    </tr>\n",
              "  </thead>\n",
              "  <tbody>\n",
              "    <tr>\n",
              "      <th>0</th>\n",
              "      <td>0</td>\n",
              "      <td>tcp</td>\n",
              "      <td>http</td>\n",
              "      <td>SF</td>\n",
              "      <td>181</td>\n",
              "      <td>5450</td>\n",
              "      <td>0</td>\n",
              "      <td>0</td>\n",
              "      <td>0</td>\n",
              "      <td>0</td>\n",
              "      <td>0</td>\n",
              "      <td>1</td>\n",
              "      <td>0</td>\n",
              "      <td>0</td>\n",
              "      <td>0</td>\n",
              "      <td>0</td>\n",
              "      <td>0</td>\n",
              "      <td>0</td>\n",
              "      <td>0</td>\n",
              "      <td>0</td>\n",
              "      <td>0</td>\n",
              "      <td>0</td>\n",
              "      <td>8</td>\n",
              "      <td>8</td>\n",
              "      <td>0.0</td>\n",
              "      <td>0.0</td>\n",
              "      <td>0.0</td>\n",
              "      <td>0.0</td>\n",
              "      <td>1.0</td>\n",
              "      <td>0.0</td>\n",
              "      <td>0.0</td>\n",
              "      <td>9</td>\n",
              "      <td>9</td>\n",
              "      <td>1.0</td>\n",
              "      <td>0.0</td>\n",
              "      <td>0.11</td>\n",
              "      <td>0.0</td>\n",
              "      <td>0.0</td>\n",
              "      <td>0.0</td>\n",
              "      <td>0.0</td>\n",
              "      <td>0.0</td>\n",
              "      <td>normal.</td>\n",
              "    </tr>\n",
              "    <tr>\n",
              "      <th>1</th>\n",
              "      <td>0</td>\n",
              "      <td>tcp</td>\n",
              "      <td>http</td>\n",
              "      <td>SF</td>\n",
              "      <td>239</td>\n",
              "      <td>486</td>\n",
              "      <td>0</td>\n",
              "      <td>0</td>\n",
              "      <td>0</td>\n",
              "      <td>0</td>\n",
              "      <td>0</td>\n",
              "      <td>1</td>\n",
              "      <td>0</td>\n",
              "      <td>0</td>\n",
              "      <td>0</td>\n",
              "      <td>0</td>\n",
              "      <td>0</td>\n",
              "      <td>0</td>\n",
              "      <td>0</td>\n",
              "      <td>0</td>\n",
              "      <td>0</td>\n",
              "      <td>0</td>\n",
              "      <td>8</td>\n",
              "      <td>8</td>\n",
              "      <td>0.0</td>\n",
              "      <td>0.0</td>\n",
              "      <td>0.0</td>\n",
              "      <td>0.0</td>\n",
              "      <td>1.0</td>\n",
              "      <td>0.0</td>\n",
              "      <td>0.0</td>\n",
              "      <td>19</td>\n",
              "      <td>19</td>\n",
              "      <td>1.0</td>\n",
              "      <td>0.0</td>\n",
              "      <td>0.05</td>\n",
              "      <td>0.0</td>\n",
              "      <td>0.0</td>\n",
              "      <td>0.0</td>\n",
              "      <td>0.0</td>\n",
              "      <td>0.0</td>\n",
              "      <td>normal.</td>\n",
              "    </tr>\n",
              "    <tr>\n",
              "      <th>2</th>\n",
              "      <td>0</td>\n",
              "      <td>tcp</td>\n",
              "      <td>http</td>\n",
              "      <td>SF</td>\n",
              "      <td>235</td>\n",
              "      <td>1337</td>\n",
              "      <td>0</td>\n",
              "      <td>0</td>\n",
              "      <td>0</td>\n",
              "      <td>0</td>\n",
              "      <td>0</td>\n",
              "      <td>1</td>\n",
              "      <td>0</td>\n",
              "      <td>0</td>\n",
              "      <td>0</td>\n",
              "      <td>0</td>\n",
              "      <td>0</td>\n",
              "      <td>0</td>\n",
              "      <td>0</td>\n",
              "      <td>0</td>\n",
              "      <td>0</td>\n",
              "      <td>0</td>\n",
              "      <td>8</td>\n",
              "      <td>8</td>\n",
              "      <td>0.0</td>\n",
              "      <td>0.0</td>\n",
              "      <td>0.0</td>\n",
              "      <td>0.0</td>\n",
              "      <td>1.0</td>\n",
              "      <td>0.0</td>\n",
              "      <td>0.0</td>\n",
              "      <td>29</td>\n",
              "      <td>29</td>\n",
              "      <td>1.0</td>\n",
              "      <td>0.0</td>\n",
              "      <td>0.03</td>\n",
              "      <td>0.0</td>\n",
              "      <td>0.0</td>\n",
              "      <td>0.0</td>\n",
              "      <td>0.0</td>\n",
              "      <td>0.0</td>\n",
              "      <td>normal.</td>\n",
              "    </tr>\n",
              "    <tr>\n",
              "      <th>3</th>\n",
              "      <td>0</td>\n",
              "      <td>tcp</td>\n",
              "      <td>http</td>\n",
              "      <td>SF</td>\n",
              "      <td>219</td>\n",
              "      <td>1337</td>\n",
              "      <td>0</td>\n",
              "      <td>0</td>\n",
              "      <td>0</td>\n",
              "      <td>0</td>\n",
              "      <td>0</td>\n",
              "      <td>1</td>\n",
              "      <td>0</td>\n",
              "      <td>0</td>\n",
              "      <td>0</td>\n",
              "      <td>0</td>\n",
              "      <td>0</td>\n",
              "      <td>0</td>\n",
              "      <td>0</td>\n",
              "      <td>0</td>\n",
              "      <td>0</td>\n",
              "      <td>0</td>\n",
              "      <td>6</td>\n",
              "      <td>6</td>\n",
              "      <td>0.0</td>\n",
              "      <td>0.0</td>\n",
              "      <td>0.0</td>\n",
              "      <td>0.0</td>\n",
              "      <td>1.0</td>\n",
              "      <td>0.0</td>\n",
              "      <td>0.0</td>\n",
              "      <td>39</td>\n",
              "      <td>39</td>\n",
              "      <td>1.0</td>\n",
              "      <td>0.0</td>\n",
              "      <td>0.03</td>\n",
              "      <td>0.0</td>\n",
              "      <td>0.0</td>\n",
              "      <td>0.0</td>\n",
              "      <td>0.0</td>\n",
              "      <td>0.0</td>\n",
              "      <td>normal.</td>\n",
              "    </tr>\n",
              "    <tr>\n",
              "      <th>4</th>\n",
              "      <td>0</td>\n",
              "      <td>tcp</td>\n",
              "      <td>http</td>\n",
              "      <td>SF</td>\n",
              "      <td>217</td>\n",
              "      <td>2032</td>\n",
              "      <td>0</td>\n",
              "      <td>0</td>\n",
              "      <td>0</td>\n",
              "      <td>0</td>\n",
              "      <td>0</td>\n",
              "      <td>1</td>\n",
              "      <td>0</td>\n",
              "      <td>0</td>\n",
              "      <td>0</td>\n",
              "      <td>0</td>\n",
              "      <td>0</td>\n",
              "      <td>0</td>\n",
              "      <td>0</td>\n",
              "      <td>0</td>\n",
              "      <td>0</td>\n",
              "      <td>0</td>\n",
              "      <td>6</td>\n",
              "      <td>6</td>\n",
              "      <td>0.0</td>\n",
              "      <td>0.0</td>\n",
              "      <td>0.0</td>\n",
              "      <td>0.0</td>\n",
              "      <td>1.0</td>\n",
              "      <td>0.0</td>\n",
              "      <td>0.0</td>\n",
              "      <td>49</td>\n",
              "      <td>49</td>\n",
              "      <td>1.0</td>\n",
              "      <td>0.0</td>\n",
              "      <td>0.02</td>\n",
              "      <td>0.0</td>\n",
              "      <td>0.0</td>\n",
              "      <td>0.0</td>\n",
              "      <td>0.0</td>\n",
              "      <td>0.0</td>\n",
              "      <td>normal.</td>\n",
              "    </tr>\n",
              "  </tbody>\n",
              "</table>\n",
              "</div>"
            ],
            "text/plain": [
              "   duration protocol_type  ... dst_host_srv_rerror_rate    label\n",
              "0         0           tcp  ...                      0.0  normal.\n",
              "1         0           tcp  ...                      0.0  normal.\n",
              "2         0           tcp  ...                      0.0  normal.\n",
              "3         0           tcp  ...                      0.0  normal.\n",
              "4         0           tcp  ...                      0.0  normal.\n",
              "\n",
              "[5 rows x 42 columns]"
            ]
          },
          "metadata": {
            "tags": []
          },
          "execution_count": 6
        }
      ]
    },
    {
      "cell_type": "code",
      "metadata": {
        "id": "Tz1d-QTF05zD",
        "colab_type": "code",
        "colab": {}
      },
      "source": [
        "pd.set_option('precision', 3)\n",
        "data1 = data\n",
        "data1 = data1.drop('protocol_type', axis=1)\n",
        "data1 = data1.drop('service', axis=1)\n",
        "data1 = data1.drop('flag', axis=1)\n",
        "data1 = data1.drop('label', axis=1)"
      ],
      "execution_count": 7,
      "outputs": []
    },
    {
      "cell_type": "markdown",
      "metadata": {
        "id": "6mKehP_G1Ciy",
        "colab_type": "text"
      },
      "source": [
        "Making a copy of the dataset with all numerical values."
      ]
    },
    {
      "cell_type": "markdown",
      "metadata": {
        "id": "CDAPGPDW4R8M",
        "colab_type": "text"
      },
      "source": [
        "Lets check the correlation between the features in the dataset.\n"
      ]
    },
    {
      "cell_type": "code",
      "metadata": {
        "id": "B4gjFITt3BLQ",
        "colab_type": "code",
        "colab": {
          "base_uri": "https://localhost:8080/",
          "height": 730
        },
        "outputId": "c13c149a-98b8-4459-f74d-6815904f7daf"
      },
      "source": [
        "cor = data1.corr()\n",
        "plt.figure(figsize=(15,10))\n",
        "sns.heatmap(cor, annot=False)\n",
        "plt.show()"
      ],
      "execution_count": 8,
      "outputs": [
        {
          "output_type": "display_data",
          "data": {
            "image/png": "[encoded data removed]",
            "text/plain": [
              "<Figure size 1080x720 with 2 Axes>"
            ]
          },
          "metadata": {
            "tags": [],
            "needs_background": "light"
          }
        }
      ]
    },
    {
      "cell_type": "markdown",
      "metadata": {
        "id": "opQLk79P4ZcB",
        "colab_type": "text"
      },
      "source": [
        "Now I'll select the highly correlated features and drop them."
      ]
    },
    {
      "cell_type": "code",
      "metadata": {
        "id": "lso-1btp3MBK",
        "colab_type": "code",
        "colab": {}
      },
      "source": [
        "x = list(cor.columns)\n",
        "g = []\n",
        "\n",
        "for i in x:\n",
        "    for j in x[:x.index(i)]:\n",
        "        if cor[i][j] >= 0.7:\n",
        "            g.append((i, j))\n",
        "o, c = [], 0\n",
        "for i in g:\n",
        "    for v in o:\n",
        "        if i[0] in [x for x in v] or i[1] in [x for x in v]:\n",
        "            c += 1\n",
        "    if c == 0:\n",
        "        s = {i[0], i[1]}\n",
        "        for j in g[g.index(i) + 1:]:\n",
        "            if i[0] == j[0] or i[0] == j[1] or i[1] == j[0] or i[1] == j[1]:\n",
        "                s.add(j[0])\n",
        "                s.add(j[1])\n",
        "\n",
        "        o.append(s)\n",
        "    c = 0\n",
        "b = []\n",
        "listd = set(b)\n",
        "for i in o:\n",
        "    for j in list(i)[:-1]:\n",
        "        listd.add(j)        # listd is the set of correlated columns\n",
        "\n",
        "for i in listd:\n",
        "    data = data.drop(i, axis=1)     # droppped the correlated columns\n"
      ],
      "execution_count": 9,
      "outputs": []
    },
    {
      "cell_type": "code",
      "metadata": {
        "id": "LMYm78nQ40yH",
        "colab_type": "code",
        "colab": {}
      },
      "source": [
        "# Converting Categorical data to numerical\n",
        "\n",
        "dataX = data.values[:, :data.shape[1] - 1]\n",
        "dataY = data.values[:, data.shape[1] - 1]\n",
        "dataY1 = dataY\n",
        "dataX[:, 1] = LabelEncoder().fit_transform(dataX[:, 1])\n",
        "dataX[:, 2] = LabelEncoder().fit_transform(dataX[:, 2])\n",
        "dataX[:, 3] = LabelEncoder().fit_transform(dataX[:, 3])\n",
        "dataY = LabelEncoder().fit_transform(dataY)\n",
        "label = {}"
      ],
      "execution_count": 10,
      "outputs": []
    },
    {
      "cell_type": "code",
      "metadata": {
        "id": "Pg15S5KH5L-A",
        "colab_type": "code",
        "colab": {}
      },
      "source": [
        "# Storing the label in a dictionary of label as key and value as encoded form of that label.\n",
        "for i in range(len(dataY1)):\n",
        "    label[dataY[i]] = dataY1[i]"
      ],
      "execution_count": 11,
      "outputs": []
    },
    {
      "cell_type": "code",
      "metadata": {
        "id": "e4FWmI045msq",
        "colab_type": "code",
        "colab": {}
      },
      "source": [
        "from sklearn.model_selection import cross_val_score"
      ],
      "execution_count": 12,
      "outputs": []
    },
    {
      "cell_type": "markdown",
      "metadata": {
        "id": "3tIZqZxb5tLa",
        "colab_type": "text"
      },
      "source": [
        "Creating a function ***acuu*** which will contain all the classifiers. You can add more classifiers in it.<br>\n",
        "This function splits the data in training and validation set.<br>\n",
        "Also it Normalizes the dataset."
      ]
    },
    {
      "cell_type": "code",
      "metadata": {
        "id": "fITxirC_5qVb",
        "colab_type": "code",
        "colab": {}
      },
      "source": [
        "def acuu(x, y):\n",
        "    l = []\n",
        "    k = []\n",
        "    from sklearn.metrics import accuracy_score\n",
        "    from sklearn.model_selection import train_test_split\n",
        "    x_train, x_val, y_train, y_val = train_test_split(x, y, test_size=0.33, random_state=7)\n",
        "    fit = Normalizer().fit(x_train)\n",
        "    x_train = fit.fit_transform(x_train)\n",
        "    x_val = fit.transform(x_val)\n",
        "\n",
        "\n",
        "\n",
        "    # MODEL-1) Linear SVC\n",
        "    # ------------------------------------------\n",
        "    from sklearn.svm import LinearSVC\n",
        "\n",
        "    linear_svc = LinearSVC()\n",
        "    linear_svc.fit(x_train, y_train)\n",
        "    y_pred = linear_svc.predict(x_val)\n",
        "    acc_linear_svc = round(accuracy_score(y_pred, y_val) * 100, 2)\n",
        "    print(\"MODEL-1: Accuracy of LinearSVC : \", acc_linear_svc)\n",
        "    l.append(acc_linear_svc)\n",
        "    acc_linear_svck = cross_val_score(linear_svc, x_val, y_val, cv=10, scoring='accuracy')\n",
        "    print(\"MODEL-1: Accuracy of Support Vector Machines by k-fold : \", round(acc_linear_svck.mean() *100, 2))\n",
        "    k.append(round(acc_linear_svck.mean() *100, 2))\n",
        "\n",
        "    # MODEL-2) Perceptron\n",
        "    # ------------------------------------------\n",
        "    from sklearn.linear_model import Perceptron\n",
        "\n",
        "    perceptron = Perceptron()\n",
        "    perceptron.fit(x_train, y_train)\n",
        "    y_pred = perceptron.predict(x_val)\n",
        "    acc_perceptron = round(accuracy_score(y_pred, y_val) * 100, 2)\n",
        "    print(\"MODEL-2: Accuracy of Perceptron : \", acc_perceptron)\n",
        "    l.append(acc_perceptron)\n",
        "    acc_perceptronk = cross_val_score(perceptron, x_val, y_val, cv=10, scoring='accuracy')\n",
        "    print(\"MODEL-2: Accuracy of Support Vector Machines by k-fold : \", round(acc_perceptronk.mean() * 100, 2))\n",
        "    k.append(round(acc_perceptronk.mean() * 100, 2))\n",
        "\n",
        "   \n",
        "    # MODEL-3) KNN or k-Nearest Neighbors\n",
        "    # ------------------------------------------\n",
        "    from sklearn.neighbors import KNeighborsClassifier\n",
        "\n",
        "    knn = KNeighborsClassifier()\n",
        "    knn.fit(x_train, y_train)\n",
        "    y_pred = knn.predict(x_val)\n",
        "    acc_knn = round(accuracy_score(y_pred, y_val) * 100, 2)\n",
        "    print(\"MODEL-3: Accuracy of k-Nearest Neighbors : \", acc_knn)\n",
        "    l.append(acc_knn)\n",
        "    acc_knnk = cross_val_score(knn, x_val, y_val, cv=10, scoring='accuracy')\n",
        "    print(\"MODEL-3: Accuracy of Support Vector Machines by k-fold : \", round(acc_knnk.mean() * 100, 2))\n",
        "    k.append(round(acc_knnk.mean() * 100, 2))\n",
        "\n",
        "    # MODEL-4) Stochastic Gradient Descent\n",
        "    # ------------------------------------------\n",
        "    from sklearn.linear_model import SGDClassifier\n",
        "\n",
        "    sgd = SGDClassifier()\n",
        "    sgd.fit(x_train, y_train)\n",
        "    y_pred = sgd.predict(x_val)\n",
        "    acc_sgd = round(accuracy_score(y_pred, y_val) * 100, 2)\n",
        "    print(\"MODEL-4: Accuracy of Stochastic Gradient Descent : \", acc_sgd)\n",
        "    l.append(acc_sgd)\n",
        "    acc_sgdk = cross_val_score(sgd, x_val, y_val, cv=10, scoring='accuracy')\n",
        "    print(\"MODEL-4: Accuracy of Support Vector Machines by k-fold : \", round(acc_sgdk.mean() * 100, 2))\n",
        "    k.append(round(acc_sgdk.mean() * 100, 2))\n",
        "\n",
        "   \n",
        "    # MODEL-5) XGBoost\n",
        "    from xgboost import XGBClassifier\n",
        "    classifier = XGBClassifier()\n",
        "    classifier.fit(x_train, y_train)\n",
        "    y_pred = classifier.predict(x_val)\n",
        "    acc_xgb=round(accuracy_score(y_pred, y_val) * 100, 2)\n",
        "    print(\"MODEL-5: Accuracy of XGBoost : \", acc_xgb)\n",
        "    l.append(acc_xgb)\n",
        "    acc_xgbk = cross_val_score(classifier, x_val, y_val, cv=10, scoring='accuracy')\n",
        "    print(\"MODEL-5: Accuracy of Support Vector Machines by k-fold : \", round(acc_xgbk.mean() * 100, 2))\n",
        "    k.append(round(acc_xgbk.mean() * 100, 2))\n",
        "\n",
        "    classifiers=['LinearSVC', 'Perceptron','KNeighborsClassifier','SGDClassifier','XGBoost']\n",
        "    plt.bar(classifiers, l, color=['b','m','g','y','maroon','cyan'])\n",
        "    plt.xticks(classifiers, rotation='vertical')\n",
        "    plt.xlabel('Classifiers')\n",
        "    plt.ylabel('Accuracies')\n",
        "    plt.title(\"Accuracy_Score()\")\n",
        "    plt.show()\n",
        "    l = []\n",
        "    plt.bar(classifiers, k, color=['b', 'm', 'g', 'y', 'maroon', 'cyan'])\n",
        "    plt.xticks(classifiers, rotation='vertical')\n",
        "    plt.xlabel('Classifiers')\n",
        "    plt.ylabel('Accuracies')\n",
        "    plt.title(\"KFolds10\")\n",
        "    plt.show()\n",
        "    k=[]\n",
        "\n"
      ],
      "execution_count": 13,
      "outputs": []
    },
    {
      "cell_type": "code",
      "metadata": {
        "id": "0lVR_TdL7SF6",
        "colab_type": "code",
        "colab": {}
      },
      "source": [
        "acuu(dataX,dataY)"
      ],
      "execution_count": null,
      "outputs": []
    },
    {
      "cell_type": "markdown",
      "metadata": {
        "id": "yfeCWFxB8zk6",
        "colab_type": "text"
      },
      "source": [
        "Using following Feature Selection algorithms to select 17 best features and then fitting them to all classifiers.\n",
        "\n",
        "\n",
        "1.   Univariate Feature Selection\n",
        "2.   Recursive Feature Elimination (RFE)\n",
        "3. Principal Component Analysis (PCA)\n",
        "4. Linear Disriminant Analysis (LDA)\n",
        "\n",
        "\n"
      ]
    },
    {
      "cell_type": "code",
      "metadata": {
        "id": "QFUrAWrn7VrO",
        "colab_type": "code",
        "colab": {}
      },
      "source": [
        "from sklearn.feature_selection import SelectKBest\n",
        "from sklearn.feature_selection import chi2\n",
        "\n",
        "test = SelectKBest(score_func=chi2, k=17)        # k is number of features\n",
        "fit = test.fit(dataX, dataY)\n",
        "train2 = test.transform(dataX)\n",
        "acuu(train2, dataY)\n",
        "#\n",
        "from sklearn.linear_model import LogisticRegression\n",
        "from sklearn.feature_selection import RFE\n",
        "\n",
        "model = LogisticRegression()\n",
        "rfe = RFE(model, 17)\n",
        "fit = rfe.fit(dataX, dataY)\n",
        "train2 = fit.transform(dataX)\n",
        "acuu(train2, dataY)\n",
        "\n",
        "from sklearn.decomposition import PCA\n",
        "\n",
        "pca = PCA(17)\n",
        "fit = pca.fit(dataX, dataY)\n",
        "train2 = pca.transform(dataX)\n",
        "acuu(train2, dataY)\n",
        "\n",
        "import warnings\n",
        "\n",
        "warnings.filterwarnings(\"ignore\")\n",
        "\n",
        "from sklearn.discriminant_analysis import LinearDiscriminantAnalysis as LDA\n",
        "\n",
        "lda = LDA(n_components=17)\n",
        "fit = lda.fit_transform(dataX, dataY)\n",
        "train3 = lda.transform(dataX)\n",
        "# fit = lda.fit(X=dataX, y=dataY)\n",
        "# train2 = fit.fit_transform(dataX)\n",
        "print(train3.shape)\n",
        "acuu(train3, dataY)"
      ],
      "execution_count": null,
      "outputs": []
    },
    {
      "cell_type": "markdown",
      "metadata": {
        "id": "0LcQ08Im9vv2",
        "colab_type": "text"
      },
      "source": [
        "Using following Feature Selection algorithms to select 11 best features and then fitting them to all classifiers.\n",
        "\n",
        "\n",
        "1.   Univariate Feature Selection\n",
        "2.   Recursive Feature Elimination (RFE)\n",
        "3. Principal Component Analysis (PCA)\n",
        "4. Linear Disriminant Analysis (LDA)"
      ]
    },
    {
      "cell_type": "code",
      "metadata": {
        "id": "1lixNhyJ8yVe",
        "colab_type": "code",
        "colab": {}
      },
      "source": [
        "from sklearn.feature_selection import SelectKBest\n",
        "from sklearn.feature_selection import chi2\n",
        "\n",
        "test = SelectKBest(score_func=chi2, k=11)        # k is number of features\n",
        "fit = test.fit(dataX, dataY)\n",
        "train2 = test.transform(dataX)\n",
        "acuu(train2, dataY)\n",
        "#\n",
        "from sklearn.linear_model import LogisticRegression\n",
        "from sklearn.feature_selection import RFE\n",
        "\n",
        "model = LogisticRegression()\n",
        "rfe = RFE(model, 11)\n",
        "fit = rfe.fit(dataX, dataY)\n",
        "train2 = fit.transform(dataX)\n",
        "acuu(train2, dataY)\n",
        "\n",
        "from sklearn.decomposition import PCA\n",
        "\n",
        "pca = PCA(11)\n",
        "fit = pca.fit(dataX, dataY)\n",
        "train2 = pca.transform(dataX)\n",
        "acuu(train2, dataY)\n",
        "\n",
        "import warnings\n",
        "\n",
        "warnings.filterwarnings(\"ignore\")\n",
        "\n",
        "from sklearn.discriminant_analysis import LinearDiscriminantAnalysis as LDA\n",
        "\n",
        "lda = LDA(n_components=11)\n",
        "fit = lda.fit_transform(dataX, dataY)\n",
        "train3 = lda.transform(dataX)\n",
        "# fit = lda.fit(X=dataX, y=dataY)\n",
        "# train2 = fit.fit_transform(dataX)\n",
        "print(train3.shape)\n",
        "acuu(train3, dataY)"
      ],
      "execution_count": null,
      "outputs": []
    },
    {
      "cell_type": "markdown",
      "metadata": {
        "id": "PXJhqaR498rY",
        "colab_type": "text"
      },
      "source": [
        "Using all Feature Selection Algorithm in a sequence to get best 11 features.<br>\n",
        "The Sequence is:<br>\n",
        "Univariate --> RFE --> PCA --> LDA"
      ]
    },
    {
      "cell_type": "code",
      "metadata": {
        "id": "7wpbvaJX9zVJ",
        "colab_type": "code",
        "colab": {}
      },
      "source": [
        "from sklearn.feature_selection import SelectKBest\n",
        "from sklearn.feature_selection import chi2\n",
        "\n",
        "test = SelectKBest(score_func=chi2, k=23)        # k is number of features\n",
        "fit = test.fit(dataX, dataY)\n",
        "train2 = test.transform(dataX)\n",
        "# acuu(train2, dataY)\n",
        "#\n",
        "from sklearn.linear_model import LogisticRegression\n",
        "from sklearn.feature_selection import RFE\n",
        "\n",
        "model = LogisticRegression()\n",
        "rfe = RFE(model, 20)\n",
        "fit = rfe.fit(train2, dataY)\n",
        "train3 = fit.transform(train2)\n",
        "# acuu(train2, dataY)\n",
        "\n",
        "from sklearn.decomposition import PCA\n",
        "\n",
        "pca = PCA(16)\n",
        "fit = pca.fit(train3, dataY)\n",
        "train4 = pca.transform(train3)\n",
        "# acuu(train2, dataY)\n",
        "\n",
        "import warnings\n",
        "\n",
        "warnings.filterwarnings(\"ignore\")\n",
        "\n",
        "from sklearn.discriminant_analysis import LinearDiscriminantAnalysis as LDA\n",
        "\n",
        "lda = LDA(n_components=11)\n",
        "fit = lda.fit_transform(train4, dataY)\n",
        "train5 = lda.transform(train4)\n",
        "# fit = lda.fit(X=dataX, y=dataY)\n",
        "# train2 = fit.fit_transform(dataX)\n",
        "print(train5.shape)\n",
        "acuu(train5, dataY)\n"
      ],
      "execution_count": null,
      "outputs": []
    },
    {
      "cell_type": "markdown",
      "metadata": {
        "id": "H_0s5i7X-kDs",
        "colab_type": "text"
      },
      "source": [
        "Using RFE and LDA in a sequence to get best 11 features.<br>\n",
        "RFE --> LDA"
      ]
    },
    {
      "cell_type": "code",
      "metadata": {
        "id": "7h1qu9sS-gQk",
        "colab_type": "code",
        "colab": {}
      },
      "source": [
        "from sklearn.linear_model import LogisticRegression\n",
        "from sklearn.feature_selection import RFE\n",
        "\n",
        "model = LogisticRegression()\n",
        "rfe = RFE(model, 17)\n",
        "fit = rfe.fit(dataX, dataY)\n",
        "train2 = fit.transform(dataX)\n",
        "print(\"RFE\")\n",
        "\n",
        "\n",
        "import warnings\n",
        "\n",
        "warnings.filterwarnings(\"ignore\")\n",
        "\n",
        "from sklearn.discriminant_analysis import LinearDiscriminantAnalysis as LDA\n",
        "\n",
        "lda = LDA(n_components=11)\n",
        "fit = lda.fit_transform(train2, dataY)\n",
        "train3 = lda.transform(train2)\n",
        "# fit = lda.fit(X=dataX, y=dataY)\n",
        "# train2 = fit.fit_transform(dataX)\n",
        "print(train3.shape)\n",
        "acuu(train3, dataY)"
      ],
      "execution_count": null,
      "outputs": []
    }
  ]
}
