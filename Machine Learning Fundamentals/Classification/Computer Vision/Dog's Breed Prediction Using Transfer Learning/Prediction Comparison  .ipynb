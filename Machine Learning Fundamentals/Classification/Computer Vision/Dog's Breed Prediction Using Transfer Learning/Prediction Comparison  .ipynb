{
 "cells": [
  {
   "cell_type": "markdown",
   "metadata": {},
   "source": [
    "# Selecting Better Model for making Dog's Breed Predictions"
   ]
  },
  {
   "cell_type": "code",
   "execution_count": 1,
   "metadata": {},
   "outputs": [
    {
     "name": "stderr",
     "output_type": "stream",
     "text": [
      "Using TensorFlow backend.\n"
     ]
    }
   ],
   "source": [
    "from keras.applications import vgg16\n",
    "from keras.applications import resnet50\n",
    "from keras.applications import inception_v3"
   ]
  },
  {
   "cell_type": "code",
   "execution_count": 2,
   "metadata": {},
   "outputs": [],
   "source": [
    "vggModel = vgg16.VGG16(weights=\"imagenet\")\n",
    "resnetModel = resnet50.ResNet50(weights=\"imagenet\")\n",
    "inceptionModel = inception_v3.InceptionV3(weights=\"imagenet\")"
   ]
  },
  {
   "cell_type": "code",
   "execution_count": 3,
   "metadata": {},
   "outputs": [
    {
     "name": "stdout",
     "output_type": "stream",
     "text": [
      "VGG16 Model Input Layer :: Tensor(\"input_1:0\", shape=(None, 224, 224, 3), dtype=float32)\n",
      "ResNet Model Input Layer :: Tensor(\"input_2:0\", shape=(None, 224, 224, 3), dtype=float32)\n",
      "Inception Model Input Layer :: Tensor(\"input_3:0\", shape=(None, 299, 299, 3), dtype=float32)\n"
     ]
    }
   ],
   "source": [
    "print(\"VGG16 Model Input Layer ::\",vggModel.layers[0].input)\n",
    "print(\"ResNet Model Input Layer ::\",resnetModel.layers[0].input)\n",
    "print(\"Inception Model Input Layer ::\",inceptionModel.layers[0].input)"
   ]
  },
  {
   "cell_type": "code",
   "execution_count": 4,
   "metadata": {},
   "outputs": [],
   "source": [
    "from keras.preprocessing import image\n",
    "vggImg = image.load_img(\"Chihuahua.jpg\", target_size=(224,224))\n",
    "resnetImg = image.load_img(\"Chihuahua.jpg\", target_size=(224,224))\n",
    "inceptionImg = image.load_img(\"Chihuahua.jpg\", target_size=(299,299))"
   ]
  },
  {
   "cell_type": "code",
   "execution_count": 5,
   "metadata": {},
   "outputs": [
    {
     "name": "stdout",
     "output_type": "stream",
     "text": [
      "Datatype of Image loaded in VGG16 : <class 'PIL.Image.Image'> \n",
      "ResNet : <class 'PIL.Image.Image'> \n",
      "Inception_v3 : <class 'PIL.Image.Image'>\n"
     ]
    }
   ],
   "source": [
    "import numpy as np\n",
    "print(\"Datatype of Image loaded in VGG16 :\",type(vggImg),\"\\nResNet :\", type(resnetImg),\"\\nInception_v3 :\", type(inceptionImg))"
   ]
  },
  {
   "cell_type": "code",
   "execution_count": 6,
   "metadata": {},
   "outputs": [
    {
     "name": "stdout",
     "output_type": "stream",
     "text": [
      "After Converting into Array :\n",
      "\n",
      "Vgg16 : <class 'numpy.ndarray'> \n",
      "ResNet : <class 'numpy.ndarray'> \n",
      "Inception_v3 : <class 'numpy.ndarray'>\n"
     ]
    }
   ],
   "source": [
    "vggImg = image.img_to_array(vggImg)\n",
    "resnetImg = image.img_to_array(resnetImg)\n",
    "inceptionImg = image.img_to_array(inceptionImg)\n",
    "print(\"After Converting into Array :\\n\")\n",
    "print(\"Vgg16 :\",type(vggImg),\"\\nResNet :\", type(resnetImg),\"\\nInception_v3 :\", type(inceptionImg))"
   ]
  },
  {
   "cell_type": "code",
   "execution_count": 7,
   "metadata": {},
   "outputs": [
    {
     "name": "stdout",
     "output_type": "stream",
     "text": [
      "(1, 224, 224, 3)\n",
      "(1, 224, 224, 3)\n",
      "(1, 299, 299, 3)\n"
     ]
    }
   ],
   "source": [
    "vggImg = np.expand_dims(vggImg, axis=0)\n",
    "resnetImg = np.expand_dims(resnetImg, axis=0)\n",
    "inceptionImg = np.expand_dims(inceptionImg, axis=0)\n",
    "\n",
    "print(vggImg.shape)\n",
    "print(resnetImg.shape)\n",
    "print(inceptionImg.shape)"
   ]
  },
  {
   "cell_type": "code",
   "execution_count": 8,
   "metadata": {},
   "outputs": [
    {
     "data": {
      "text/plain": [
       "[[('n02091244', 'Ibizan_hound', 0.32490584),\n",
       "  ('n02091032', 'Italian_greyhound', 0.13601664),\n",
       "  ('n02423022', 'gazelle', 0.117192425),\n",
       "  ('n02087046', 'toy_terrier', 0.093044914),\n",
       "  ('n02091134', 'whippet', 0.06937259)]]"
      ]
     },
     "execution_count": 8,
     "metadata": {},
     "output_type": "execute_result"
    }
   ],
   "source": [
    "from keras.applications.vgg16 import decode_predictions\n",
    "from keras.applications.vgg16 import preprocess_input\n",
    "\n",
    "VGGFinalImg = preprocess_input(vggImg)\n",
    "PredVgg = vggModel.predict(VGGFinalImg)\n",
    "decode_predictions(PredVgg)"
   ]
  },
  {
   "cell_type": "code",
   "execution_count": 9,
   "metadata": {},
   "outputs": [
    {
     "data": {
      "text/plain": [
       "[[('n02110806', 'basenji', 0.807519),\n",
       "  ('n02087046', 'toy_terrier', 0.044739686),\n",
       "  ('n01877812', 'wallaby', 0.037608083),\n",
       "  ('n02091032', 'Italian_greyhound', 0.033434074),\n",
       "  ('n02091244', 'Ibizan_hound', 0.020242078)]]"
      ]
     },
     "execution_count": 9,
     "metadata": {},
     "output_type": "execute_result"
    }
   ],
   "source": [
    "from keras.applications.resnet50 import decode_predictions\n",
    "from keras.applications.resnet50 import preprocess_input\n",
    "\n",
    "ResNetFinalImg = preprocess_input(resnetImg)\n",
    "Predresnet = resnetModel.predict(ResNetFinalImg)\n",
    "decode_predictions(Predresnet)"
   ]
  },
  {
   "cell_type": "code",
   "execution_count": 10,
   "metadata": {},
   "outputs": [
    {
     "data": {
      "text/plain": [
       "[[('n02085620', 'Chihuahua', 0.7577654),\n",
       "  ('n02087046', 'toy_terrier', 0.09092092),\n",
       "  ('n02113978', 'Mexican_hairless', 0.004012365),\n",
       "  ('n02107312', 'miniature_pinscher', 0.0030702672),\n",
       "  ('n02108915', 'French_bulldog', 0.002813927)]]"
      ]
     },
     "execution_count": 10,
     "metadata": {},
     "output_type": "execute_result"
    }
   ],
   "source": [
    "from keras.applications.inception_v3 import decode_predictions\n",
    "from keras.applications.inception_v3 import preprocess_input\n",
    "\n",
    "InceptionFinalImg = preprocess_input(inceptionImg)\n",
    "PredInception = inceptionModel.predict(InceptionFinalImg)\n",
    "decode_predictions(PredInception)"
   ]
  },
  {
   "cell_type": "markdown",
   "metadata": {},
   "source": [
    "## From the above prediction we can conclude that we have given the image of Chihuahua but while making predictions by Vgg16 & ResNet50, it gave the wrong answers but Inception_v3 which is being developed by Google gave the accurate answer with 75% accuracy. So we can say that for predicting Dog's breed we can use Inception_v3 weights as it has better accuracy than others "
   ]
  },
  {
   "cell_type": "code",
   "execution_count": null,
   "metadata": {},
   "outputs": [],
   "source": []
  }
 ],
 "metadata": {
  "kernelspec": {
   "display_name": "Python 3",
   "language": "python",
   "name": "python3"
  },
  "language_info": {
   "codemirror_mode": {
    "name": "ipython",
    "version": 3
   },
   "file_extension": ".py",
   "mimetype": "text/x-python",
   "name": "python",
   "nbconvert_exporter": "python",
   "pygments_lexer": "ipython3",
   "version": "3.7.7"
  }
 },
 "nbformat": 4,
 "nbformat_minor": 4
}
